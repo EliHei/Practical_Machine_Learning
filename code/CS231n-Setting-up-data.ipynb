{
 "cells": [
  {
   "cell_type": "code",
   "execution_count": null,
   "metadata": {
    "collapsed": false
   },
   "outputs": [],
   "source": [
    "# Dataset downloader\n",
    "from sklearn.datasets import fetch_mldata\n",
    "# to shuffle the data\n",
    "from random import shuffle\n",
    "# to work with matrice\n",
    "import numpy as np\n",
    "#\n",
    "from sklearn.decomposition import PCA\n",
    "\n",
    "\n",
    "mnist = fetch_mldata('MNIST original', data_home=\"/Public/Drop_Box/Career/Research_Projects/DNN/Practical_Machine_Learning/\\\n",
    "data/MNIST/\")\n",
    "\n",
    "indice = [i for i in range(70000)]\n",
    "shuffle(indice)\n",
    "images = mnist.data[indice][0:784]\n",
    "labels = mnist.target[indice]\n",
    "images = images.astype(float)\n",
    "\n",
    "\n",
    "# PCA (self-impelentation)\n",
    "images -= np.mean(images, axis = 0) # mean = 0\n",
    "images /= (np.std(images, axis = 0) + 1e-5) # variance = 0\n",
    "X = images\n",
    "cov = np.dot(X.T, X)/X.shape[0] # covariance matrix \n",
    "print(np.sum(cov))\n",
    "U, S, V = np.linalg.svd(cov) # SVD on covariance matrix\n",
    "X_dec = np.dot(X,U) # decolerate the data (projecting on independent basis)\n",
    "\n",
    "#PCA (utilizing sklearn)\n",
    "pca = sklearn.decomposition.PCA(n_components='mle', svd_solver='full')\n",
    "pca.fit(X)\n",
    "\n",
    "transformed = pca.components\n",
    "\n",
    "# plotting the first image\n",
    "plt.axis('off')\n",
    "plt.imshow(transformed[0].reshape(28,28), cmap=plt.cm.gray_r)\n",
    "plt.title('Training: %i' % labels[0])\n",
    "plt.show()\n",
    "plt.close()\n",
    "images = mnist.data\n",
    "print(pca.components[0])\n",
    "\n",
    "\n",
    "\n"
   ]
  },
  {
   "cell_type": "code",
   "execution_count": null,
   "metadata": {
    "collapsed": true
   },
   "outputs": [],
   "source": []
  },
  {
   "cell_type": "code",
   "execution_count": null,
   "metadata": {
    "collapsed": true
   },
   "outputs": [],
   "source": []
  }
 ],
 "metadata": {
  "kernelspec": {
   "display_name": "Python 3",
   "language": "python",
   "name": "python3"
  },
  "language_info": {
   "codemirror_mode": {
    "name": "ipython",
    "version": 3
   },
   "file_extension": ".py",
   "mimetype": "text/x-python",
   "name": "python",
   "nbconvert_exporter": "python",
   "pygments_lexer": "ipython3",
   "version": "3.6.3"
  }
 },
 "nbformat": 4,
 "nbformat_minor": 0
}
