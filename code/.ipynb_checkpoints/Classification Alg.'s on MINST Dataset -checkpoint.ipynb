{
 "cells": [
  {
   "cell_type": "markdown",
   "metadata": {},
   "source": [
    "# Fetching Data\n",
    "Fetching MINST dataset and plotting the first image. "
   ]
  },
  {
   "cell_type": "code",
   "execution_count": null,
   "metadata": {
    "collapsed": true
   },
   "outputs": [],
   "source": [
    "%matplotlib inline"
   ]
  },
  {
   "cell_type": "code",
   "execution_count": null,
   "metadata": {
    "collapsed": false
   },
   "outputs": [],
   "source": [
    "# Random Forest Classifier\n",
    "from sklearn.ensemble import RandomForestClassifier\n",
    "# Gradient Boosting Classifier\n",
    "from sklearn.ensemble import GradientBoostingClassifier\n",
    "# Dataset downloader\n",
    "from sklearn.datasets import fetch_mldata\n",
    "# Working with datastructures such as matrix\n",
    "import numpy as np\n",
    "# Plot in python\n",
    "import matplotlib.pyplot as plt\n",
    "# Dirac delta for misclassification rate\n",
    "from sympy.functions.special.delta_functions import DiracDelta\n",
    "# plot the random forest\n",
    "from sklearn.tree import export_graphviz\n",
    "from subprocess import check_call\n",
    "import pydot\n",
    "import pydot_ng\n",
    "from subprocess import check_call\n",
    "# from tsne import bh_sne\n",
    "\n",
    "# fetching MNIST dataset with fetch_mldata\n",
    "mnist = fetch_mldata('MNIST original', data_home=\"/Public/Drop_Box/Career/Research_Projects/DNN/Practical_Machine_Learning/\\\n",
    "data/MNIST/\")\n",
    "\n",
    "# reshape images to 28 * 28 in order to plot\n",
    "images = [x.reshape(28,28) for x in mnist.data]\n",
    "labels = mnist.target\n",
    "\n",
    "# X_2d = bh_sne(images)\n",
    "# rcParams['figure.figsize'] = 20, 20\n",
    "# scatter(X_2d[:, 0], X_2d[:, 1], c=labels)\n",
    "\n",
    "# plotting the first image\n",
    "plt.axis('off')\n",
    "plt.imshow(images[0], cmap=plt.cm.gray_r)\n",
    "plt.title('Training: %i' % labels[0])\n",
    "plt.show()\n",
    "plt.close()\n",
    "images = mnist.data"
   ]
  },
  {
   "cell_type": "markdown",
   "metadata": {},
   "source": [
    "# Preprocessing\n",
    "The first step in learning is preprocessing. This is step is carry out to\n",
    "- Find and exclude the outliers, \n",
    "- Detect and remove effects of probable errors occured in data collection,\n",
    "- And normalize the data in order to make the algorithms faster and more robust.\n",
    "\n",
    "There are number of procedures in order to preprocess the data each of which are proper for a particular type of data. For MNIST data I prefered to use sklearn preprocessor **MaxAbsScaler** which is appropriate for *sparse* data.[[see this]](http://scikit-learn.org/stable/modules/preprocessing.html)"
   ]
  },
  {
   "cell_type": "code",
   "execution_count": 3,
   "metadata": {
    "collapsed": false
   },
   "outputs": [],
   "source": [
    "from sklearn.preprocessing import MaxAbsScaler\n",
    "normalized_images = MaxAbsScaler().fit_transform(images)"
   ]
  },
  {
   "cell_type": "markdown",
   "metadata": {},
   "source": [
    "# Partitioning the data\n",
    "In every machine learning project the data shoud be splitted into a training set and a test set. Although there is no optimality about the relative size of these sets I chose 70-30 partition on the data.[[see this]](https://www.researchgate.net/post/Is_there_an_ideal_ratio_between_a_training_set_and_validation_set_Which_trade-off_would_you_suggest) The function **train_test_split** from sklearn.model_selection used to split the data."
   ]
  },
  {
   "cell_type": "code",
   "execution_count": 4,
   "metadata": {
    "collapsed": false
   },
   "outputs": [],
   "source": [
    "from sklearn.model_selection import train_test_split\n",
    "train_images , test_images , train_labels, test_labels = train_test_split(normalized_images, labels, test_size=0.3)"
   ]
  },
  {
   "cell_type": "markdown",
   "metadata": {},
   "source": [
    "# Dimensionality reduction\n",
    "In order to plot the classification in 2 dimensions we have to reduce dimensions of the data. I used PCA to this end. PCA from sklearn.decomposition is employed to do this. "
   ]
  },
  {
   "cell_type": "code",
   "execution_count": 1,
   "metadata": {
    "collapsed": false
   },
   "outputs": [
    {
     "ename": "NameError",
     "evalue": "name 'images' is not defined",
     "output_type": "error",
     "traceback": [
      "\u001b[0;31m---------------------------------------------------------------------------\u001b[0m",
      "\u001b[0;31mNameError\u001b[0m                                 Traceback (most recent call last)",
      "\u001b[0;32m<ipython-input-1-e88870a15e87>\u001b[0m in \u001b[0;36m<module>\u001b[0;34m()\u001b[0m\n\u001b[1;32m      1\u001b[0m \u001b[0;32mfrom\u001b[0m \u001b[0msklearn\u001b[0m\u001b[0;34m.\u001b[0m\u001b[0mdecomposition\u001b[0m \u001b[0;32mimport\u001b[0m \u001b[0mPCA\u001b[0m\u001b[0;34m\u001b[0m\u001b[0m\n\u001b[1;32m      2\u001b[0m \u001b[0mpca\u001b[0m \u001b[0;34m=\u001b[0m \u001b[0mPCA\u001b[0m\u001b[0;34m(\u001b[0m\u001b[0mn_components\u001b[0m\u001b[0;34m=\u001b[0m\u001b[0;36m2\u001b[0m\u001b[0;34m)\u001b[0m\u001b[0;34m\u001b[0m\u001b[0m\n\u001b[0;32m----> 3\u001b[0;31m \u001b[0mDR_data\u001b[0m \u001b[0;34m=\u001b[0m \u001b[0mpca\u001b[0m\u001b[0;34m.\u001b[0m\u001b[0mfit_transform\u001b[0m\u001b[0;34m(\u001b[0m\u001b[0mimages\u001b[0m\u001b[0;34m)\u001b[0m\u001b[0;34m\u001b[0m\u001b[0m\n\u001b[0m\u001b[1;32m      4\u001b[0m \u001b[0mprint\u001b[0m\u001b[0;34m(\u001b[0m\u001b[0mDR_Data\u001b[0m\u001b[0;34m[\u001b[0m\u001b[0;36m0\u001b[0m\u001b[0;34m,\u001b[0m\u001b[0;34m:\u001b[0m\u001b[0;34m]\u001b[0m\u001b[0;34m)\u001b[0m\u001b[0;34m\u001b[0m\u001b[0m\n",
      "\u001b[0;31mNameError\u001b[0m: name 'images' is not defined"
     ]
    }
   ],
   "source": [
    "from sklearn.decomposition import PCA\n",
    "pca = PCA(n_components=2)\n",
    "DR_data = pca.fit_transform(images)\n",
    "print(DR_Data[0,:])"
   ]
  },
  {
   "cell_type": "markdown",
   "metadata": {},
   "source": [
    "(Skip this section!!!! ##todo)\n",
    "# Cross-Validaiton\n",
    "In order to tune the hyperparameteres of a model, a cross-validation should be applied on the data. I prefered to use k-fold (k=5) cross-validation to do the hyperparameter tuning. The function **StratifiedKFold** from sklearn.model_selection has been used in order to avoid different proportions of classes in folds."
   ]
  },
  {
   "cell_type": "code",
   "execution_count": null,
   "metadata": {
    "collapsed": true
   },
   "outputs": [],
   "source": [
    "from sklearn.model_selection import StratifiedKFold\n",
    "from sklearn.metrics import accuracy_score # the accuracy of the prediction\n",
    "skf = StratifiedKFold(n_splits=5)\n",
    "i = 0\n",
    "for train_index, test_index in skf.split(train_images, train_labels):\n",
    "    train_im[i], val_im[i] = train_images[train_index], train_images[test_index]\n",
    "    train_lab[i], val_lab[i] = train_labels[train_index], train_labels[test_index]\n",
    "    i += 1\n",
    "    \n",
    "def acc_fold(clf):\n",
    "    acc_sum = 0\n",
    "    for i in range(0,5):\n",
    "        fit = clf.fit(train_im[i],train_lab[i])\n",
    "        pred = fit.predict(val_im[i])\n",
    "        "
   ]
  },
  {
   "cell_type": "markdown",
   "metadata": {},
   "source": [
    "# Plot confusion matrix\n",
    "In order to evaluate the classification I used confusion matrix. The code below generates a plot of the input confusion matrix."
   ]
  },
  {
   "cell_type": "code",
   "execution_count": 5,
   "metadata": {
    "collapsed": true
   },
   "outputs": [],
   "source": [
    "def plot_cnf(cnf_matrix, cnf_title):\n",
    "    plt.figure()\n",
    "    plt.imshow(cnf_matrix, interpolation='nearest')\n",
    "    plt.title(cnf_title)\n",
    "    plt.colorbar()\n",
    "    tick_marks = np.arange(10)\n",
    "    plt.xticks(tick_marks, [str(x) for x in range(0,10)], rotation=45)\n",
    "    plt.yticks(tick_marks, [str(x) for x in range(0,10)])\n",
    "    plt.tight_layout()\n",
    "    plt.ylabel('True label')\n",
    "    plt.xlabel('Predicted label')\n",
    "    plt.show()  \n",
    "    plt.close()"
   ]
  },
  {
   "cell_type": "markdown",
   "metadata": {},
   "source": [
    "# Generalized linear models\n",
    "Fitting a linear model on data by multiplication of a weight vector to a measurement matrix."
   ]
  },
  {
   "cell_type": "markdown",
   "metadata": {},
   "source": [
    "## Simple logistic regression\n",
    "Logistic regression is the simplest form of classification algorithms. It fits a linear model on data and put it in a euqation with a logit function which in some sense the probability of the data to belong to a specific class (it is a rough explanation for more details [see this](http://www.stat.cmu.edu/~cshalizi/uADA/12/lectures/ch12.pdf)).<br />\n",
    "Logistic regression is implemented as **LogisticRegression** function in sklearn.linear_model. The function has a parameter to set the type of penalty one may want to induce to the weights. I applied the logisitic regression in 3 fashions on the data: \n",
    "- one with no regularization term, \n",
    "- one with l1-norm normalizaiton \n",
    "- and one with l2 norm normalizaiton."
   ]
  },
  {
   "cell_type": "code",
   "execution_count": null,
   "metadata": {
    "collapsed": true
   },
   "outputs": [],
   "source": [
    "from sklearn.linear_model import LogisticRegression\n",
    "from sklearn.metrics import accuracy_score # the accuracy of the prediction\n",
    "from sklearn.metrics import confusion_matrix # a matrix indicating the prediciton\n",
    "\n",
    "# NO REGULARIZATION\n",
    "# define the classifier\n",
    "# regularization coefficient is set to 0\n",
    "# solver is set to saga due to documentation advice on large number of samples\n",
    "# multiclass is set to multinomial because of multiclasses\n",
    "LR_clf = LogisticRegression(penalty='l2', dual=False, tol=0.0001, C=0, fit_intercept=True,\\\n",
    "                   solver='saga',multi_class='multinomial',n_jobs=1) \n",
    "# fitting the model to training data\n",
    "LR_fit = LR_clf.fit(train_images, train_labels)\n",
    "# predicting the labels of test data\n",
    "LR_pred = LR_fit.predict(test_images)\n",
    "# defining the confusion matrix of the prediction\n",
    "cnf_matrix = confusion_matrix(test_labels, LR_pred)\n",
    "# visualizing the confusion matrix\n",
    "plot_cnf(cnf_matrix, \"logistic regression with no regularization\")\n",
    "print(\"accuracy rate of logistic regression with no regularization: %d\", accuracy_score(test_labels, ridge_pred))\n",
    "\n",
    "# L1 REGULARIZATION\n",
    "# define the classifier\n",
    "# regularization coefficient is set to 0\n",
    "# solver is set to saga due to documentation advice on large number of samples\n",
    "# multiclass is set to multinomial because of multiclasses\n",
    "Cs = np.arange(0.5,10,0.5) # defining the grid of search space\n",
    "# defining the classifier using grid search to set the regularization strength\n",
    "LR1_clf = GridSearchCV(estimator=LogisticRegression(penalty='l1', dual=False, tol=0.0001, fit_intercept=True,\\\n",
    "                   solver='saga',multi_class='multinomial'), param_grid=dict(C=Cs), n_jobs=2)\n",
    "\n",
    "# fitting the model to training data\n",
    "LR1_fit = LR1_clf.fit(train_images, train_labels)\n",
    "# predicting the labels of test data\n",
    "LR1_pred = LR1_fit.predict(test_images)\n",
    "# defining the confusion matrix of the prediction\n",
    "cnf_matrix = confusion_matrix(test_labels, LR1_pred)\n",
    "# visualizing the confusion matrix\n",
    "plot_cnf(cnf_matrix, \"logistic regression with l1 regularization\")\n",
    "print(\"accuracy rate of logistic regression with l1 regularization: %d\", accuracy_score(test_labels, LR1_pred))\n",
    "\n",
    "# L2 REGULARIZATION\n",
    "# define the classifier\n",
    "# regularization coefficient is set to 0\n",
    "# solver is set to sag due to documentation advice on large number of samples\n",
    "# multiclass is set to multinomial because of multiclasses\n",
    "Cs = np.arange(0.5,10,0.5) # defining the grid of search space\n",
    "LR2_clf = GridSearchCV(estimator=LogisticRegression(penalty='l1', dual=False, tol=0.0001, fit_intercept=True,\\\n",
    "                   solver='sag',multi_class='multinomial'), param_grid=dict(C=Cs), n_jobs=2) \n",
    "# fitting the model to training data\n",
    "LR2_fit = LR2_clf.fit(train_images, train_labels)\n",
    "# predicting the labels of test data\n",
    "LR2_pred = LR2_fit.predict(test_images)\n",
    "# defining the confusion matrix of the prediction\n",
    "cnf_matrix = confusion_matrix(test_labels, LR2_pred)\n",
    "# visualizing the confusion matrix\n",
    "plot_cnf(cnf_matrix, \"logistic regression with l2 regularization\")\n",
    "print(\"accuracy rate of logistic regression with l2 regularization: %d\", accuracy_score(test_labels, LR2_pred))\n"
   ]
  },
  {
   "cell_type": "markdown",
   "metadata": {},
   "source": [
    "## Ridge classifier\n",
    "Ridge classifier induces an L2 regularization on the coefficients of the linear model. [[see this]](http://statweb.stanford.edu/~tibs/sta305files/Rudyregularization.pdf) The method has been implemented using **RidgeClassifier** from sklearn.linear_model.<br />\n",
    "In order to find the best regularization strength (alpha) a cross-validation has been carried out. The function **RidgeClassifierCV** from sklearn.linear_model is used to do a cross-validation. I'd rather using 5-fold cross-validation according to [this](https://web.stanford.edu/~hastie/Papers/ESLII.pdf). However, there are several approches to apply cross-validation on data."
   ]
  },
  {
   "cell_type": "code",
   "execution_count": null,
   "metadata": {
    "collapsed": false
   },
   "outputs": [],
   "source": [
    "from sklearn.linear_model import RidgeClassifierCV\n",
    "from sklearn.metrics import accuracy_score # the accuracy of the prediction\n",
    "from sklearn.metrics import confusion_matrix # a matrix indicating the prediciton\n",
    "\n",
    "# defining the ridge classifier\n",
    "#grid search between 0.5 and 10 with step of size 0.5\n",
    "ridge_clf = RidgeClassifierCV(alphas=np.arange(0.5, 10, 0.5), fit_intercept=True, cv=5) \n",
    "# fitting the model to training data\n",
    "ridge_fit = ridge_clf.fit(train_images, train_labels)\n",
    "# predicting the labels of test data\n",
    "ridge_pred = ridge_fit.predict(test_images)\n",
    "# defining the confusion matrix of the prediction\n",
    "cnf_matrix = confusion_matrix(test_labels, ridge_pred)\n",
    "# visualizing the confusion matrix\n",
    "plot_cnf(cnf_matrix, \"ridge classification\")\n",
    "print(\"accuracy rate of ridge classification: %d\", accuracy_score(test_labels, ridge_pred))"
   ]
  },
  {
   "cell_type": "markdown",
   "metadata": {},
   "source": [
    "## L1 norm classifier\n",
    "There is no implementation of lasso (l1 regulization) classifier in sklearn. Thus, I prefered to use a linear svm calssifier with l1 penalty. To this end, **LinearSVC** has been utilized from sklearn.svm. In order to find the regularizaiton hyperparameter **GridSearchCV** has been used from sklearn.model_selection."
   ]
  },
  {
   "cell_type": "code",
   "execution_count": null,
   "metadata": {
    "collapsed": false
   },
   "outputs": [],
   "source": [
    "from sklearn.svm import LinearSVC\n",
    "from sklearn.model_selection import GridSearchCV, cross_val_score # impelent cross validation and find regularization hyperparameter\n",
    "from sklearn.metrics import accuracy_score # the accuracy of the prediction\n",
    "from sklearn.metrics import confusion_matrix # a matrix indicating the prediciton\n",
    "\n",
    "\n",
    "Cs = np.arange(0.5,10,0.5) # defining the grid of search space\n",
    "# defining the classifier using grid search to set the regularization strength\n",
    "Linear_SVM_clf = GridSearchCV(estimator=LinearSVC(penalty='l1', loss='squared_hinge', dual=False,\\\n",
    "                      tol=0.0001, multi_class='multinomial', fit_intercept=True), param_grid=dict(C=Cs), n_jobs=2)\n",
    "\n",
    "\n",
    "\n",
    "# fitting the model to training data\n",
    "Linear_SVM_fit = Linear_SVM_clf.fit(train_images, train_labels)\n",
    "# predicting the labels of test data\n",
    "LS_pred = Linear_SVM_fit.predict(test_images)\n",
    "# defining the confusion matrix of the prediction\n",
    "cnf_matrix = confusion_matrix(test_labels, LS_pred)\n",
    "# visualizing the confusion matrix\n",
    "plot_cnf(cnf_matrix, \"Lasso classification\")\n",
    "print(\"accuracy rate of Lasso classification: %d\", accuracy_score(test_labels, LS_pred))"
   ]
  },
  {
   "cell_type": "markdown",
   "metadata": {},
   "source": [
    "## Elastic net classifier\n",
    "We talked about linear models with l1- and l2-norm regularizaiton but what if we combine them? <br />\n",
    "Elastic net is a linear combination of l1- and l2-norm.[[see this]](https://web.stanford.edu/~hastie/TALKS/enet_talk.pdf) It can somhow benefit both of the methods. Parameteres of **SGDClassifier** form sklearn.linear_model may be set to apply a Elastic net regularization on categorial data to carry out a classification (l1 and l2 are also implemented). "
   ]
  },
  {
   "cell_type": "code",
   "execution_count": null,
   "metadata": {
    "collapsed": false
   },
   "outputs": [],
   "source": [
    "from sklearn.linear_model import SGDClassifier\n",
    "from sklearn.model_selection import GridSearchCV, cross_val_score # impelent cross validation and find regularization hyperparameter\n",
    "from sklearn.metrics import accuracy_score # the accuracy of the prediction\n",
    "from sklearn.metrics import confusion_matrix # a matrix indicating the prediciton\n",
    "\n",
    "\n",
    "alphas = np.arange(0.01,2,0.01) # defining the grid of search space\n",
    "# defining the classifier using grid search to set the regularization strength\n",
    "# penalty set to elasticnet\n",
    "# ratio of l1 regularization is 0.15 \n",
    "# learning rate is not constant\n",
    "elasticnet_clf = GridSearchCV(estimator=SGDClassifier(loss='hinge', penalty='elastic-net', l1_ratio=0.15, fit_intercept=True,\\\n",
    "              n_jobs=3, learning_rate='optimal'), param_grid=dict(alpha=alphas), n_jobs=2)\n",
    "\n",
    "# fitting the model to training data\n",
    "elasticnet_fit = elasticnet_clf.fit(train_images, train_labels)\n",
    "# predicting the labels of test data\n",
    "elasticnet_pred = elasticnet_fit.predict(test_images)\n",
    "# defining the confusion matrix of the prediction\n",
    "cnf_matrix = confusion_matrix(test_labels, elasticnet_pred)\n",
    "# visualizing the confusion matrix\n",
    "plot_cnf(cnf_matrix, \"elasticnet classification\")\n",
    "print(\"accuracy rate of elasticnet classification: %d\", accuracy_score(test_labels, elasticnet_pred))"
   ]
  },
  {
   "cell_type": "markdown",
   "metadata": {},
   "source": [
    "## Perceptron\n",
    "Perceptron is the first and most naive implementation of a nural network.[[see this]](https://web.stanford.edu/~hastie/TALKS/enet_talk.pdf) The point is the learning process which has several iterations and updates in the fitted weights.<br />\n",
    "In sickit-learn the perceptron has been developed as **Perceptron** in sklearn.linear_model. Regularization is also available to add on perceptron. All four conditions has been implemented."
   ]
  },
  {
   "cell_type": "code",
   "execution_count": null,
   "metadata": {
    "collapsed": true
   },
   "outputs": [],
   "source": [
    "from sklearn.linear_model import Perceptron\n",
    "from sklearn.model_selection import GridSearchCV, cross_val_score # impelent cross validation and find regularization hyperparameter\n",
    "from sklearn.metrics import accuracy_score # the accuracy of the prediction\n",
    "from sklearn.metrics import confusion_matrix # a matrix indicating the prediciton\n",
    "\n",
    "# NO REGULARIZATION\n",
    "prc = Perceptron(fit_intercept=True,n_jobs=2)\n",
    "# fitting the model to training data\n",
    "prc_fit = prc.fit(train_images, train_labels)\n",
    "# predicting the labels of test data\n",
    "prc_pred = prc_fit.predict(test_images)\n",
    "# defining the confusion matrix of the prediction\n",
    "cnf_matrix = confusion_matrix(test_labels, prc_pred)\n",
    "# visualizing the confusion matrix\n",
    "plot_cnf(cnf_matrix, \"perceptron\")\n",
    "print(\"accuracy rate of perceptron: %d\", accuracy_score(test_labels, prc_pred))\n",
    "\n",
    "# L1 REGULARIZATION\n",
    "alphas = np.arange(0.01,2,0.01) # defining the grid of search space\n",
    "# defining the classifier using grid search to set the regularization strength\n",
    "# penalty set to elasticnet\n",
    "# ratio of l1 regularization is 0.15 \n",
    "# learning rate is not constant\n",
    "prc_L1 = GridSearchCV(estimator=Perceptron(penalty = 'l1', fit_intercept=True,n_jobs=2), param_grid=dict(alpha=alphas), n_jobs=2)\n",
    "# fitting the model to training data\n",
    "prc_L1_fit = prc_L1.fit(train_images, train_labels)\n",
    "# predicting the labels of test data\n",
    "prc_L1_pred = prc_L1_fit.predict(test_images)\n",
    "# defining the confusion matrix of the prediction\n",
    "cnf_matrix = confusion_matrix(test_labels, prc_L1_pred)\n",
    "# visualizing the confusion matrix\n",
    "plot_cnf(cnf_matrix, \"perceptron with L1\")\n",
    "print(\"accuracy rate of perceptron with L1: %d\", accuracy_score(test_labels, prc_L1_pred))\n",
    "\n",
    "# L2 REGULARIZATION\n",
    "alphas = np.arange(0.01,2,0.01) # defining the grid of search space\n",
    "# defining the classifier using grid search to set the regularization strength\n",
    "# penalty set to elasticnet\n",
    "# ratio of l1 regularization is 0.15 \n",
    "# learning rate is not constant\n",
    "prc_L2 = GridSearchCV(estimator=Perceptron(penalty = 'l2', fit_intercept=True,n_jobs=2), param_grid=dict(alpha=alphas), n_jobs=2)\n",
    "# fitting the model to training data\n",
    "prc_L2_fit = prc_L2.fit(train_images, train_labels)\n",
    "# predicting the labels of test data\n",
    "prc_L2_pred = prc_L2_fit.predict(test_images)\n",
    "# defining the confusion matrix of the prediction\n",
    "cnf_matrix = confusion_matrix(test_labels, prc_L2_pred)\n",
    "# visualizing the confusion matrix\n",
    "plot_cnf(cnf_matrix, \"perceptron with L2\")\n",
    "print(\"accuracy rate of perceptron with L2: %d\", accuracy_score(test_labels, prc_L2_pred))\n",
    "\n",
    "# elasticnet REGULARIZATION\n",
    "alphas = np.arange(0.01,2,0.01) # defining the grid of search space\n",
    "# defining the classifier using grid search to set the regularization strength\n",
    "# penalty set to elasticnet\n",
    "# ratio of l1 regularization is 0.15 \n",
    "# learning rate is not constant\n",
    "prc_elastic = GridSearchCV(estimator=Perceptron(penalty = 'elasticnet', fit_intercept=True,n_jobs=2), param_grid=dict(alpha=alphas), n_jobs=2)\n",
    "# fitting the model to training data\n",
    "prc_elastic_fit = prc_elastic.fit(train_images, train_labels)\n",
    "# predicting the labels of test data\n",
    "prc_elastic_pred = prc_elastic_fit.predict(test_images)\n",
    "# defining the confusion matrix of the prediction\n",
    "cnf_matrix = confusion_matrix(test_labels, prc_elastic_pred)\n",
    "# visualizing the confusion matrix\n",
    "plot_cnf(cnf_matrix, \"perceptron with elasticnet\")\n",
    "print(\"accuracy rate of perceptron with elasticnet: %d\", accuracy_score(test_labels, prc_elastic_pred))"
   ]
  },
  {
   "cell_type": "markdown",
   "metadata": {},
   "source": [
    "## Passiveagressive classification"
   ]
  },
  {
   "cell_type": "code",
   "execution_count": null,
   "metadata": {
    "collapsed": true
   },
   "outputs": [],
   "source": [
    "from sklearn.linear_model import PassiveAggressiveClassifier\n",
    "from sklearn.model_selection import GridSearchCV, cross_val_score # impelent cross validation and find regularization hyperparameter\n",
    "from sklearn.metrics import accuracy_score # the accuracy of the prediction\n",
    "from sklearn.metrics import confusion_matrix # a matrix indicating the prediciton\n",
    "\n",
    "Cs = np.arange(0.01,2,0.01) # defining the grid of search space\n",
    "# defining the classifier using grid search to set the regularization strength\n",
    "# penalty set to elasticnet\n",
    "# ratio of l1 regularization is 0.15 \n",
    "# learning rate is not constant\n",
    "pac_clf = GridSearchCV(estimator=PassiveAggressiveClassifier(C=1.0, fit_intercept=True, loss='hinge'), param_grid=dict(C=Cs), n_jobs=2)\n",
    "# fitting the model to training data\n",
    "pac_clf_fit = pac_clf.fit(train_images, train_labels)\n",
    "# predicting the labels of test data\n",
    "pac_clf_pred = pac_clf_fit.predict(test_images)\n",
    "# defining the confusion matrix of the prediction\n",
    "cnf_matrix = confusion_matrix(test_labels, pac_clf_pred)\n",
    "# visualizing the confusion matrix\n",
    "plot_cnf(cnf_matrix, \"Passiveaggressive classification\")\n",
    "print(\"accuracy rate of Passiveaggressive classification: %d\", accuracy_score(test_labels, pac_clf_pred))"
   ]
  },
  {
   "cell_type": "markdown",
   "metadata": {},
   "source": [
    "# Discrement analysis\n",
    "Given you have gaussian distributed multivariate data points and you want to classify the data by introducing linear or quadratic boundries in the feature space. LDA and QDA are aimed to find such boundries with a maximum likelihood approach.[[see this]](http://web.stanford.edu/class/stats202/content/lec9.pdf) "
   ]
  },
  {
   "cell_type": "code",
   "execution_count": 30,
   "metadata": {
    "collapsed": false
   },
   "outputs": [
    {
     "data": {
      "image/png": "[encoded data removed]",
      "text/plain": [
       "<matplotlib.figure.Figure at 0x11db4c208>"
      ]
     },
     "metadata": {},
     "output_type": "display_data"
    },
    {
     "name": "stdout",
     "output_type": "stream",
     "text": [
      "accuracy rate of LDA:  0.867523809524\n"
     ]
    }
   ],
   "source": [
    "from sklearn.discriminant_analysis import LinearDiscriminantAnalysis\n",
    "from sklearn.metrics import accuracy_score # the accuracy of the prediction\n",
    "from sklearn.metrics import confusion_matrix # a matrix indicating the prediciton\n",
    "from matplotlib.axes import Axes\n",
    "import matplotlib.pyplot as plt\n",
    "from matplotlib.colors import ListedColormap\n",
    "\n",
    "# LDA\n",
    "# solver set to lsqr to benefit shrinkage\n",
    "# shrinkage rate is set to auto to do the optimal one\n",
    "# defining the classifier LDA\n",
    "LDA = LinearDiscriminantAnalysis(solver='lsqr', shrinkage='auto')\n",
    "# fitting the model to training data\n",
    "LDA_fit = LDA.fit(train_images, train_labels)\n",
    "# predicting the labels of test data\n",
    "LDA_pred = LDA_fit.predict(test_images)\n",
    "# defining the confusion matrix of the prediction\n",
    "cnf_matrix = confusion_matrix(test_labels, LDA_pred)\n",
    "# visualizing the confusion matrix\n",
    "plot_cnf(cnf_matrix, \"LDA\")\n",
    "print(\"accuracy rate of LDA: \", accuracy_score(test_labels, LDA_pred))\n",
    "\n",
    "\n",
    "\n",
    "\n",
    "\n",
    "# h = .02\n",
    "# x_min, x_max = images[:, 0].min() - .5, images[:, 0].max() + .5\n",
    "# y_min, y_max = images[:, 1].min() - .5, images[:, 1].max() + .5\n",
    "# xx, yy = np.meshgrid(np.arange(x_min, x_max, h), np.arange(y_min, y_max, h))\n",
    "\n",
    "\n",
    "\n",
    "# print(np.c_[xx.ravel(), yy.ravel()])\n",
    "# cm = plt.cm.RdBu\n",
    "# cm_bright = ListedColormap(['#FF0000', '#0000FF'])\n",
    "\n",
    "# plt_lda = LinearDiscriminantAnalysis(solver='lsqr', shrinkage='auto')\n",
    "# plt_lda.fit(train_images[:,0:2], train_labels)\n",
    "# score = plt_lda.score(test_images[:,0:2], test_labels)\n",
    "\n",
    "# ax = plt\n",
    "# # Plot the decision boundary. For that, we will assign a color to each\n",
    "# # point in the mesh [x_min, x_max]x[y_min, y_max].\n",
    "# Z = plt_lda.predict_proba(np.c_[xx.ravel(), yy.ravel()])[:, 1]\n",
    "# # Put the result into a color plot\n",
    "# Z = Z.reshape(xx.shape)\n",
    "# ax.contourf(xx, yy, Z, cmap=cm, alpha=.8)\n",
    "# # Plot also the training points\n",
    "# ax.scatter(train_images[:, 0], train_images[:, 1], c=train_labels, cmap=cm_bright,\\\n",
    "#            edgecolors='k')\n",
    "# # and testing points\n",
    "# ax.scatter(test_images[:, 0], test_images[:, 1], c=test_labels, cmap=cm_bright,\\\n",
    "#            edgecolors='k', alpha=0.6)\n",
    "# ax.text(xx.max() - .3, yy.min() + .3, ('%.2f' % score).lstrip('0'),\\\n",
    "#         size=15, horizontalalignment='right')\n",
    "# plt.tight_layout()\n",
    "# plt.show()\n"
   ]
  },
  {
   "cell_type": "code",
   "execution_count": 29,
   "metadata": {
    "collapsed": false
   },
   "outputs": [
    {
     "name": "stderr",
     "output_type": "stream",
     "text": [
      "/usr/local/lib/python3.6/site-packages/sklearn/discriminant_analysis.py:682: UserWarning: Variables are collinear\n",
      "  warnings.warn(\"Variables are collinear\")\n"
     ]
    },
    {
     "data": {
      "image/png": "[encoded data removed]",
      "text/plain": [
       "<matplotlib.figure.Figure at 0x11de272e8>"
      ]
     },
     "metadata": {},
     "output_type": "display_data"
    },
    {
     "name": "stdout",
     "output_type": "stream",
     "text": [
      "accuracy rate of QDA: %.2 0.544952380952\n"
     ]
    }
   ],
   "source": [
    "from sklearn.discriminant_analysis import QuadraticDiscriminantAnalysis\n",
    "from sklearn.metrics import accuracy_score # the accuracy of the prediction\n",
    "from sklearn.metrics import confusion_matrix # a matrix indicating the prediciton\n",
    "\n",
    "# QDA\n",
    "# defining the classifier QDA\n",
    "QDA = QuadraticDiscriminantAnalysis()\n",
    "# fitting the model to training data\n",
    "QDA_fit = QDA.fit(train_images, train_labels)\n",
    "# predicting the labels of test data\n",
    "QDA_pred = QDA_fit.predict(test_images)\n",
    "# defining the confusion matrix of the prediction\n",
    "cnf_matrix = confusion_matrix(test_labels, QDA_pred)\n",
    "# visualizing the confusion matrix\n",
    "plot_cnf(cnf_matrix, \"QDA\")\n",
    "print(\"accuracy rate of QDA: \", accuracy_score(test_labels, QDA_pred))"
   ]
  },
  {
   "cell_type": "markdown",
   "metadata": {},
   "source": []
  },
  {
   "cell_type": "markdown",
   "metadata": {},
   "source": [
    "# Random Forest Classifier\n",
    "RandomForestClassifier function has been used to set the parameteres.\n",
    "- The function \"misclass\" gets the max depth of the trees of the forest and returns the misclassification rate for 10-fold cross-validation.\n",
    "- The funciton opt_param finds the optimal depth of the trees by a grid search. (optimal depth was 190 for a grid serach between 10 and 200 by step of length 10)\n",
    "- The first classifer tree fitted on the training data has been plotted and the plot is saved in tree0.png.\n",
    "- In order to find the best number of classifiers for this problem the out-of-bag error among the number of trees has been plotted. (optimal number of trees was \n"
   ]
  },
  {
   "cell_type": "code",
   "execution_count": null,
   "metadata": {
    "collapsed": false
   },
   "outputs": [],
   "source": [
    "# Fits a random forest to the training data with maximum depth of m_depth and returns \n",
    "# the misclassification rate for 10-fold cross-validation\n",
    "def misclass(m_depth):\n",
    "    # Define Random Forest Classifier by setting the parameters\n",
    "    # n_estimators : number of random trees\n",
    "    # criterion : mesearement of feature importance \n",
    "    # max_depth : maximum depth of trees in the forest\n",
    "    # min_samples_split : minimum number of samples in a split\n",
    "    # min_samples_leaf : minimum number of samples in a leaf\n",
    "    # min_weight_fraction_leaf : minimum weight of samples to be a leaf\n",
    "    # n_jobs : number of cores dedicated\n",
    "    # bootstrap : whether to use bootstrap for sampling or not\n",
    "    # oob_score : whether to calculate out of box score or not\n",
    "    # max_fetures : maximum fetures used for classification at each split\n",
    "    # max_leaf_nodes : maximum number of leaf nodes\n",
    "    # min_impurity_split : if the impurity of a node is more than this the node can be splited.\n",
    "    # min_impurity_decrease : if the impurity of the nodes resulted from spliting a node is more than this the node can be splited.\n",
    "    # warm_start : Whether to use previous model and add new estimators\n",
    "    # random_state : seed of the random generator\n",
    "    # verbose : ?\n",
    "    \n",
    "    # setting the parameters of the classifier\n",
    "    rfclassifier = RandomForestClassifier(n_estimators=100, criterion='gini', max_depth=m_depth, min_samples_split=2, min_samples_leaf=20,\\\n",
    "                           min_weight_fraction_leaf=0.0, max_features='sqrt', max_leaf_nodes=None,\\\n",
    "                           min_impurity_decrease=0.0, min_impurity_split=None, bootstrap=True, oob_score=False,\\\n",
    "                           n_jobs=3, random_state=None, verbose=0, warm_start=False)\n",
    "    mis_rate = 0\n",
    "    # the following is a 10-fold cross-validation\n",
    "    for x in range(0,10):\n",
    "        min_ind = x * training_size // 10\n",
    "        max_ind = (x + 1) * training_size // 10\n",
    "        # validation data\n",
    "        vd_img = training_images[min_ind:max_ind]\n",
    "        vd_lab = training_labels[min_ind:]\n",
    "        # training data\n",
    "        tr_img = np.concatenate((training_images[:min_ind] , training_images[max_ind:]), axis = 0)\n",
    "        tr_lab = np.concatenate((training_labels[:min_ind], training_labels[max_ind:]), axis = 0)\n",
    "        # fitting the model to training data\n",
    "        rfclassifier.fit(tr_img, tr_lab)\n",
    "        # predicting the labels of validation data\n",
    "        predicitons = rfclassifier.predict(vd_img)\n",
    "        # computing misclassificaitons of validation data\n",
    "        misclassifications = [(p_i - l_i == 0) for p_i, l_i in zip(predicitons, vd_lab)]\n",
    "        mis_rate += sum(misclassifications) / 3500\n",
    "    return 1- mis_rate / 10\n",
    "\n",
    "# optimizer finder employing grid search between mini and maxi with grid width of step\n",
    "def opt_param(mini, maxi, step):\n",
    "    opt = 1\n",
    "    for x in range(mini, maxi, step):\n",
    "        if opt > misclass(x):\n",
    "            opt = misclass(x)\n",
    "            optx = x\n",
    "    return optx\n",
    "\n",
    "# fits a classifier with n_est trees to the training data\n",
    "def rfclf(n_est):\n",
    "    # A classifier description --> oob_score = True for future use in plotting\n",
    "    clf = RandomForestClassifier(n_estimators=n_est, criterion='gini', max_depth= 190, min_samples_split=2, min_samples_leaf=20,\\\n",
    "                               min_weight_fraction_leaf=0.0, max_features='sqrt', max_leaf_nodes=None,\\\n",
    "                               min_impurity_decrease=0.0, min_impurity_split=None, bootstrap=True, oob_score=True,\\\n",
    "                               n_jobs=3, random_state=None, verbose=0, warm_start=True)\n",
    "\n",
    "    # Fitting the defined classifier\n",
    "    clf.fit(training_images, training_labels)\n",
    "    return clf\n",
    "    \n",
    "rf_clf = rfclf(100)\n",
    "\n",
    "# plotting the first classifier tree\n",
    "tree = rf_clf.estimators_[0]\n",
    "export_graphviz(tree,\n",
    "            filled=True,\n",
    "            rounded=True)\n",
    "(graph,) = pydot.graph_from_dot_file('tree.dot')\n",
    "graph.write_png('tree0.png')\n",
    "\n",
    "# plotting out-of-bag error for different number of trees\n",
    "oob_errors = []\n",
    "for n in range(10, 1210,30):\n",
    "    rf_clf = rfclf(n)\n",
    "    oob_errors.append(1 - rf_clf.oob_score_)   \n",
    "plt.plot(range(10, 1210,30), oob_errors, 'r')\n",
    "plt.show()  \n",
    "\n",
    "# Took about 30 mins on core i5 intel --> best number of trees =? 500 (best performance without overhead)\n",
    "\n"
   ]
  },
  {
   "cell_type": "markdown",
   "metadata": {},
   "source": [
    "# Gradient Boosting\n"
   ]
  },
  {
   "cell_type": "code",
   "execution_count": null,
   "metadata": {
    "collapsed": true
   },
   "outputs": [],
   "source": [
    "# fits a classifier with n_est trees to the training data\n",
    "def gbclf(n_est):\n",
    "    # Defining a Gradient Boosting Classifier (many of parameters are the same as of RF classifier)\n",
    "    # loss : Gradient Boosting (deviance) or Adaboost (exponential)\n",
    "    # learning rate : rate of decrease in weight of residual fitted tree\n",
    "    # subsample : fraction of data to be used if < 1 --> stochastic gradient descent\n",
    "    # criterion :  “friedman_mse” for the mean squared error with improvement score by Friedman, “mse” for mean squared error, and “mae” for the mean absolute error. best is friedman!\n",
    "    # init : ?\n",
    "    # presort : whether to presort data in order to speedup the alg. best is auto!\n",
    "    clf = GradientBoostingClassifier(loss='deviance', learning_rate=0.1, n_estimators=n_est,\\\n",
    "                                       subsample=1.0, criterion='friedman_mse',\\\n",
    "                                       min_samples_split=2, min_samples_leaf=1,\\\n",
    "                                       min_weight_fraction_leaf=0.0, max_depth=3,\\\n",
    "                                       min_impurity_decrease=0.0, min_impurity_split=None,\\\n",
    "                                       init=None, random_state=None, max_features=None,\\\n",
    "                                       verbose=0, max_leaf_nodes=None, warm_start=False,\\\n",
    "                                       presort='auto')\n",
    "    # Fitting the model\n",
    "    clf.fit(training_images, training_labels)\n",
    "    return clf"
   ]
  },
  {
   "cell_type": "markdown",
   "metadata": {},
   "source": [
    "# Comparing the methods\n",
    "Now we want to compare the methods in terms of misclassifications of test data. "
   ]
  },
  {
   "cell_type": "code",
   "execution_count": null,
   "metadata": {
    "collapsed": false
   },
   "outputs": [],
   "source": [
    "# misclassification rate of Random Forest Classifier\n",
    "rf_mis_rate = []\n",
    "# misclassification rate of Gradient Boosting Classifier\n",
    "gb_mis_rate = []\n",
    "# between 10 and 1200 trees\n",
    "for n in range(10, 1210,30):\n",
    "    \n",
    "    rf_clf = rfclf(n)\n",
    "    rf_pred = rf_clf.predict(test_images)\n",
    "    rf_mis = [(p_i - l_i == 0) for p_i, l_i in zip(rf_pred, test_labels)]\n",
    "    rf_mis_rate.append(sum(rf_mis) / 3500)\n",
    "    \n",
    "    gb_clf = gbclf(n)\n",
    "    gb_pred = gb_clf.predict(test_images)\n",
    "    gb_mis = [(p_i - l_i == 0) for p_i, l_i in zip(gb_pred, test_labels)]\n",
    "    gb_mis_rate.append(sum(gb_mis) / 3500)\n",
    "    \n",
    "plt.plot(range(10, 1210,30), rf_mis_rate , 'b', range(10, 1210,30), gb_mis_rate, 'r')\n",
    "plt.show()\n",
    "\n",
    "# took more than a hour!!!\n"
   ]
  }
 ],
 "metadata": {
  "kernelspec": {
   "display_name": "Python 3",
   "language": "python",
   "name": "python3"
  },
  "language_info": {
   "codemirror_mode": {
    "name": "ipython",
    "version": 3
   },
   "file_extension": ".py",
   "mimetype": "text/x-python",
   "name": "python",
   "nbconvert_exporter": "python",
   "pygments_lexer": "ipython3",
   "version": "3.6.3"
  }
 },
 "nbformat": 4,
 "nbformat_minor": 2
}
